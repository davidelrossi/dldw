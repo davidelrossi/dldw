{
 "cells": [
  {
   "cell_type": "code",
   "execution_count": 1,
   "id": "aee0e74a",
   "metadata": {},
   "outputs": [
    {
     "name": "stdout",
     "output_type": "stream",
     "text": [
      "this is my first notebook\n"
     ]
    }
   ],
   "source": [
    "print(\"this is my first notebook\")"
   ]
  },
  {
   "cell_type": "code",
   "execution_count": null,
   "id": "14dab8c0",
   "metadata": {},
   "outputs": [],
   "source": []
  }
 ],
 "metadata": {
  "kernelspec": {
   "display_name": "dldw",
   "language": "python",
   "name": "dldw"
  },
  "language_info": {
   "codemirror_mode": {
    "name": "ipython",
    "version": 3
   },
   "file_extension": ".py",
   "mimetype": "text/x-python",
   "name": "python",
   "nbconvert_exporter": "python",
   "pygments_lexer": "ipython3",
   "version": "3.10.7"
  }
 },
 "nbformat": 4,
 "nbformat_minor": 5
}
